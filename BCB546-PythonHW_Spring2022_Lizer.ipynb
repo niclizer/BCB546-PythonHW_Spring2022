{
 "cells": [
  {
   "cell_type": "code",
   "execution_count": 2,
   "metadata": {},
   "outputs": [],
   "source": [
    "from Bio import SeqIO\n",
    "from Bio.Data import CodonTable\n",
    "import pandas as pd"
   ]
  },
  {
   "cell_type": "code",
   "execution_count": 3,
   "metadata": {},
   "outputs": [],
   "source": [
    "def get_sequences_from_file(fasta_fn):\n",
    "    sequence_data_dict = {}\n",
    "    for record in SeqIO.parse(fasta_fn, \"fasta\"):\n",
    "        description = record.description.split()\n",
    "        species_name = description[1] + \" \" + description[2]\n",
    "        sequence_data_dict[species_name] = record.seq\n",
    "    return(sequence_data_dict)"
   ]
  },
  {
   "cell_type": "code",
   "execution_count": 4,
   "metadata": {},
   "outputs": [],
   "source": [
    "with open(\"seq_get.fasta\",\"w\") as f:\n",
    "        for seq_record in SeqIO.parse(\"penguins_cytb.fasta\", \"fasta\"):\n",
    "                f.write(str(seq_record.id) + \"\\n\")\n",
    "                f.write(str(seq_record.seq[:10]) + \"\\n\")  #first 10 base positions\n",
    "                f.write(str(seq_record.seq[-10:]) + \"\\n\") #last 10 base positions"
   ]
  },
  {
   "cell_type": "code",
   "execution_count": 5,
   "metadata": {},
   "outputs": [
    {
     "data": {
      "text/plain": [
       "<_io.TextIOWrapper name='seq_get.fasta' mode='w' encoding='UTF-8'>"
      ]
     },
     "execution_count": 5,
     "metadata": {},
     "output_type": "execute_result"
    }
   ],
   "source": [
    "f"
   ]
  },
  {
   "cell_type": "code",
   "execution_count": 6,
   "metadata": {},
   "outputs": [
    {
     "data": {
      "text/plain": [
       "12"
      ]
     },
     "execution_count": 6,
     "metadata": {},
     "output_type": "execute_result"
    }
   ],
   "source": [
    "penguins_ctyb = SeqIO.parse('penguins_cytb.fasta', 'fasta')\n",
    "count = 0\n",
    "for record in penguins_ctyb:\n",
    "    count +=1\n",
    "    \n",
    "count"
   ]
  },
  {
   "cell_type": "code",
   "execution_count": 7,
   "metadata": {},
   "outputs": [
    {
     "name": "stdout",
     "output_type": "stream",
     "text": [
      "AB026282\n",
      "AB026282 Aptenodytes forsteri mitochondrial gene for cytochrome b, complete cds, haplotype:a\n",
      "Seq('ATGGCCCCAAATCTCCGAAAATCCCATCCCCTCCTAAAAATAATTAATAACTCC...TAA')\n",
      "1143\n",
      "AF076044\n",
      "AF076044 Aptenodytes patagonicus cytochrome b (cytb) gene, mitochondrial gene encoding mitochondrial protein, complete cds\n",
      "Seq('ATGGCCCCAAACCTCCGAAAATCCCATCCTCTCCTAAAAATAATTAATAACTCC...TAA')\n",
      "1143\n",
      "AF076051\n",
      "AF076051 Eudyptes chrysocome cytochrome b (cytb) gene, mitochondrial gene encoding mitochondrial protein, complete cds\n",
      "Seq('ATGGCCCCCAACCTCCGAAAATCCCACCCCCTCCTAAAAACAATCAATAACTCC...TAA')\n",
      "1143\n",
      "AF076052\n",
      "AF076052 Eudyptes chrysolophus cytochrome b (cytb) gene, mitochondrial gene encoding mitochondrial protein, complete cds\n",
      "Seq('ATGGCCCCCAACCTCCGAAAATCCCACCCCCTCCTAAAAACAATCAATAACTCC...TAA')\n",
      "1143\n",
      "AB026277\n",
      "AB026277 Eudyptes sclateri mitochondrial gene for cytochrome b, complete cds\n",
      "Seq('ATGGCCCCCAACCTCCGAAAATCCCACCCCCTCCTAAAAACAATCAATAACTCC...TAA')\n",
      "1143\n",
      "AB026278\n",
      "AB026278 Eudyptula minor mitochondrial gene for cytochrome b, complete cds\n",
      "Seq('ATGGCCCCCAACCTCCGAAAATCTCACCCCCTCCTAAAAATAATCAACAACTCT...TAA')\n",
      "1143\n",
      "AB066603\n",
      "AB066603 Pygoscelis adeliae mitochondrial gene for cytochrome b, complete cds, haplotype:c\n",
      "Seq('ATGGCCCCCAACCTCCGAAAATCCCACCCTCTCCTAAAAATAATTAACAACTCC...TAA')\n",
      "1143\n",
      "AF076089\n",
      "AF076089 Pygoscelis antarctica cytochrome b (cytb) gene, mitochondrial gene encoding mitochondrial protein, complete cds\n",
      "Seq('ATGGCCCCCAACCTCCGAAAATCCCACCCTCTCCTAAAAATAATCAACAACTCC...TAG')\n",
      "1143\n",
      "AF076090\n",
      "AF076090 Pygoscelis papua cytochrome b (cytb) gene, mitochondrial gene encoding mitochondrial protein, complete cds\n",
      "Seq('ATGGCCCCCAACCTTCGAAAATCCCACCCTCTCCTAAAAATAATCAACAAATCC...TAG')\n",
      "1143\n",
      "AB026269\n",
      "AB026269 Spheniscus demersus mitochondrial gene for cytochrome b, complete cds\n",
      "Seq('ATGGCCCCCAACCTCCGAAAATCCCACCCTCTCCTAAAAACAATCAACAACTCC...TAA')\n",
      "1143\n",
      "AB026271\n",
      "AB026271 Spheniscus humboldti mitochondrial gene for cytochrome b, complete cds, haplotype:a\n",
      "Seq('ATGGCCCCCAACCTCCGAAAATCCCACCCTCTCCTAAAAACAATCAACAACTCC...TAA')\n",
      "1143\n",
      "AB026270\n",
      "AB026270 Spheniscus magellanicus mitochondrial gene for cytochrome b, complete cds\n",
      "Seq('ATGGCCCCCAACCTCCGAAAATCCCACCCTCTCCTAAAAACAATCAACAACTCC...TAA')\n",
      "1143\n"
     ]
    }
   ],
   "source": [
    "for penguins_ctyb in SeqIO.parse('penguins_cytb.fasta', 'fasta'):\n",
    "    print(penguins_ctyb.id)  \n",
    "    print(penguins_ctyb.description)\n",
    "    print(repr(penguins_ctyb.seq)) # representative sequence, not the entire seq\n",
    "    print(len(penguins_ctyb))  "
   ]
  },
  {
   "cell_type": "code",
   "execution_count": 18,
   "metadata": {},
   "outputs": [],
   "source": [
    "from Bio import SeqIO\n",
    "from Bio.SeqUtils import GC\n",
    "import pandas as pd\n",
    "import os\n",
    "import glob"
   ]
  },
  {
   "cell_type": "code",
   "execution_count": 16,
   "metadata": {},
   "outputs": [],
   "source": [
    "def calculate_gc(fasta):\n",
    "    seq_obj=SeqIO.read(fasta, 'fasta')\n",
    "    sequence=obj.seq\n",
    "\n",
    "    gc_content=GC(sequence)\n",
    "    gc_content=round(gc_content,2)\n",
    "\n",
    "    filename=os.path.split(fasta)\n",
    "    filename=filename[1]\n",
    "    filename=filename.strip('.fasta')\n",
    "\n",
    "    print(filename)\n",
    "    print(gc_content)\n",
    "\n"
   ]
  },
  {
   "cell_type": "code",
   "execution_count": null,
   "metadata": {},
   "outputs": [],
   "source": [
    "for fasta in penguins_ctyb:\n",
    "    calculate_gc(fasta)"
   ]
  },
  {
   "cell_type": "code",
   "execution_count": 23,
   "metadata": {},
   "outputs": [],
   "source": [
    "def GC_content(dna_seq):\n",
    "    count = 0\n",
    "    for base in dna_seq:\n",
    "        if base == 'G' or base == 'C':\n",
    "            count+=1\n",
    "    perce = count/len(\"penguins_cytb\")*100 # percentatge of GC content\n",
    "    \n",
    "    return (perce)"
   ]
  },
  {
   "cell_type": "code",
   "execution_count": 25,
   "metadata": {},
   "outputs": [
    {
     "data": {
      "text/plain": [
       "4238.461538461539"
      ]
     },
     "execution_count": 25,
     "metadata": {},
     "output_type": "execute_result"
    }
   ],
   "source": [
    "GC_content(penguins_ctyb)"
   ]
  },
  {
   "cell_type": "markdown",
   "metadata": {},
   "source": [
    "## translation"
   ]
  },
  {
   "cell_type": "code",
   "execution_count": null,
   "metadata": {},
   "outputs": [],
   "source": []
  }
 ],
 "metadata": {
  "interpreter": {
   "hash": "b3bf398fbd98f79c67509c0fd739935b4ac4818bbe27c6328d5e0537cdf380d7"
  },
  "kernelspec": {
   "display_name": "Python 3.9.7 ('base')",
   "language": "python",
   "name": "python3"
  },
  "language_info": {
   "codemirror_mode": {
    "name": "ipython",
    "version": 3
   },
   "file_extension": ".py",
   "mimetype": "text/x-python",
   "name": "python",
   "nbconvert_exporter": "python",
   "pygments_lexer": "ipython3",
   "version": "3.9.7"
  },
  "orig_nbformat": 4
 },
 "nbformat": 4,
 "nbformat_minor": 2
}
