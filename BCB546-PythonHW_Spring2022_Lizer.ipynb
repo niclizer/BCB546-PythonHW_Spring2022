{
 "cells": [
  {
   "cell_type": "markdown",
   "metadata": {},
   "source": [
    "First we need to import the following packages."
   ]
  },
  {
   "cell_type": "code",
   "execution_count": 6,
   "metadata": {},
   "outputs": [],
   "source": [
    "import Bio\n",
    "from Bio import SeqIO\n",
    "from Bio.Seq import Seq\n",
    "from Bio.Data import CodonTable\n",
    "from Bio.SeqRecord import SeqRecord\n",
    "import pandas as pd\n",
    "\n",
    "from Bio.SeqUtils.ProtParam import ProteinAnalysis"
   ]
  },
  {
   "cell_type": "markdown",
   "metadata": {},
   "source": [
    "Below is a function to extract fasta sequences"
   ]
  },
  {
   "cell_type": "code",
   "execution_count": 2,
   "metadata": {},
   "outputs": [],
   "source": [
    "def get_sequences_from_file(fasta_fn): #pull in the information from seq file\n",
    "    sequence_data_dict = {}\n",
    "    for record in SeqIO.parse(fasta_fn, \"fasta\"):\n",
    "        description = record.description.split()\n",
    "        species_name = description[1] + \" \" + description[2]\n",
    "        sequence_data_dict[species_name] = record.seq\n",
    "    return(sequence_data_dict) # gives a dictionary with species name and decription, matched to seq. fasta"
   ]
  },
  {
   "cell_type": "markdown",
   "metadata": {},
   "source": [
    "#### Translation (#2)"
   ]
  },
  {
   "cell_type": "markdown",
   "metadata": {},
   "source": [
    "The function below creats an amino acid string."
   ]
  },
  {
   "cell_type": "code",
   "execution_count": 3,
   "metadata": {},
   "outputs": [],
   "source": [
    "def translate_function(string_nuc): \n",
    "    mitoch_table = CodonTable.unambiguous_dna_by_name[\"Vertebrate Mitochondrial\"] \n",
    "    aa_string = [] # starts the amino acid string\n",
    "    for i in range(0, len(string_nuc),3):\n",
    "        codon = string_nuc[i:i +3] # adds 3 nucleotides \n",
    "        \n",
    "        if codon == 'AGA' or codon == 'AGG' or codon == 'TAG' or codon == 'TAA' : # looks for stop codons\n",
    "            break #stops when it hits a stop codons \n",
    "        else:\n",
    "            aa = mitoch_table.forward_table[codon] # pulls a.a. from table\n",
    "            aa_string.append(aa) # adds a.a. to the string    \n",
    "       \n",
    "    return \"\".join(aa_string) # returns a string of sequence"
   ]
  },
  {
   "cell_type": "code",
   "execution_count": 4,
   "metadata": {},
   "outputs": [
    {
     "name": "stdout",
     "output_type": "stream",
     "text": [
      "Table 2 Vertebrate Mitochondrial, SGC1\n",
      "\n",
      "  |  T      |  C      |  A      |  G      |\n",
      "--+---------+---------+---------+---------+--\n",
      "T | TTT F   | TCT S   | TAT Y   | TGT C   | T\n",
      "T | TTC F   | TCC S   | TAC Y   | TGC C   | C\n",
      "T | TTA L   | TCA S   | TAA Stop| TGA W   | A\n",
      "T | TTG L   | TCG S   | TAG Stop| TGG W   | G\n",
      "--+---------+---------+---------+---------+--\n",
      "C | CTT L   | CCT P   | CAT H   | CGT R   | T\n",
      "C | CTC L   | CCC P   | CAC H   | CGC R   | C\n",
      "C | CTA L   | CCA P   | CAA Q   | CGA R   | A\n",
      "C | CTG L   | CCG P   | CAG Q   | CGG R   | G\n",
      "--+---------+---------+---------+---------+--\n",
      "A | ATT I(s)| ACT T   | AAT N   | AGT S   | T\n",
      "A | ATC I(s)| ACC T   | AAC N   | AGC S   | C\n",
      "A | ATA M(s)| ACA T   | AAA K   | AGA Stop| A\n",
      "A | ATG M(s)| ACG T   | AAG K   | AGG Stop| G\n",
      "--+---------+---------+---------+---------+--\n",
      "G | GTT V   | GCT A   | GAT D   | GGT G   | T\n",
      "G | GTC V   | GCC A   | GAC D   | GGC G   | C\n",
      "G | GTA V   | GCA A   | GAA E   | GGA G   | A\n",
      "G | GTG V(s)| GCG A   | GAG E   | GGG G   | G\n",
      "--+---------+---------+---------+---------+--\n"
     ]
    }
   ],
   "source": [
    "mitoch_table = CodonTable.unambiguous_dna_by_name[\"Vertebrate Mitochondrial\"] \n",
    "print(mitoch_table) # way to visualize the codon table"
   ]
  },
  {
   "cell_type": "markdown",
   "metadata": {},
   "source": [
    "There is a much simpler way to go about doing this (#3)"
   ]
  },
  {
   "cell_type": "code",
   "execution_count": 5,
   "metadata": {},
   "outputs": [],
   "source": [
    "def translate(string_nuc): \n",
    "    amino_acid = Seq.translate(string_nuc, table=\"Vertebrate Mitochondrial\", to_stop=True) #uses Bio.Seq to quickly translate the codons based on V.M. table\n",
    "    return str(amino_acid) \n"
   ]
  },
  {
   "cell_type": "markdown",
   "metadata": {},
   "source": [
    "molecular weight analysis (#4)"
   ]
  },
  {
   "cell_type": "code",
   "execution_count": null,
   "metadata": {},
   "outputs": [],
   "source": [
    "       \n",
    "def calculate_MW(amino_acid_seq): #creating the function \n",
    "    molecular_weight = ProteinAnalysis(amino_acid_seq).molecular_weight() # calculate MW from Protein sequence\n",
    "    return molecular_weight"
   ]
  },
  {
   "cell_type": "markdown",
   "metadata": {},
   "source": [
    "GC content check (#5)"
   ]
  },
  {
   "cell_type": "markdown",
   "metadata": {},
   "source": [
    "script below calculates the C and G content of the seq. "
   ]
  },
  {
   "cell_type": "code",
   "execution_count": 8,
   "metadata": {},
   "outputs": [],
   "source": [
    "cytb_seqs = get_sequences_from_file(\"penguins_cytb.fasta\") \n",
    "penguins_df = pd.read_csv(\"penguins_mass.csv\") # Includes only data for body mass \n",
    "species_list = list(penguins_df.species)"
   ]
  },
  {
   "cell_type": "code",
   "execution_count": 16,
   "metadata": {},
   "outputs": [],
   "source": [
    "def GC_content(DNA_string):\n",
    "    Gcount = DNA_string.count(\"G\") # counts the \"G\"s\n",
    "    Ccount = DNA_string.count(\"C\") # counts the \"C\"s\n",
    "    DNAstring_length = len(DNA_string) # defines DNAstring_length as the length of the DNA_string\n",
    "    GC_content = (Ccount+Gcount)/DNAstring_length # divide the total of G and C by the totality \n",
    "    return GC_content"
   ]
  },
  {
   "cell_type": "code",
   "execution_count": 10,
   "metadata": {},
   "outputs": [
    {
     "name": "stdout",
     "output_type": "stream",
     "text": [
      "                    species   mass\n",
      "0      Aptenodytes forsteri  28.00\n",
      "1   Aptenodytes patagonicus  13.40\n",
      "2       Eudyptes chrysocome   2.80\n",
      "3     Eudyptes chrysolophus   4.50\n",
      "4         Eudyptes sclateri   4.25\n",
      "5           Eudyptula minor   1.60\n",
      "6        Pygoscelis adeliae   4.60\n",
      "7     Pygoscelis antarctica   4.10\n",
      "8          Pygoscelis papua   6.10\n",
      "9       Spheniscus demersus   3.20\n",
      "10     Spheniscus humboldti   4.75\n",
      "11  Spheniscus magellanicus   3.40\n"
     ]
    }
   ],
   "source": [
    "print(penguins_df)"
   ]
  },
  {
   "cell_type": "markdown",
   "metadata": {},
   "source": [
    "Next we will add two columns for the MW and the GC content"
   ]
  },
  {
   "cell_type": "code",
   "execution_count": 11,
   "metadata": {},
   "outputs": [
    {
     "name": "stdout",
     "output_type": "stream",
     "text": [
      "                    species   mass molecular_weight GC_content\n",
      "0      Aptenodytes forsteri  28.00              NaN        NaN\n",
      "1   Aptenodytes patagonicus  13.40              NaN        NaN\n",
      "2       Eudyptes chrysocome   2.80              NaN        NaN\n",
      "3     Eudyptes chrysolophus   4.50              NaN        NaN\n",
      "4         Eudyptes sclateri   4.25              NaN        NaN\n",
      "5           Eudyptula minor   1.60              NaN        NaN\n",
      "6        Pygoscelis adeliae   4.60              NaN        NaN\n",
      "7     Pygoscelis antarctica   4.10              NaN        NaN\n",
      "8          Pygoscelis papua   6.10              NaN        NaN\n",
      "9       Spheniscus demersus   3.20              NaN        NaN\n",
      "10     Spheniscus humboldti   4.75              NaN        NaN\n",
      "11  Spheniscus magellanicus   3.40              NaN        NaN\n"
     ]
    }
   ],
   "source": [
    "penguins_mass_extended = penguins_df.assign(molecular_weight = 'NaN', GC_content='NaN') # adds the columns to the table\n",
    "print(penguins_mass_extended)"
   ]
  },
  {
   "cell_type": "markdown",
   "metadata": {},
   "source": [
    " Get GC-content and amino acid molecular weight and loop into a dataframe"
   ]
  },
  {
   "cell_type": "code",
   "execution_count": 19,
   "metadata": {},
   "outputs": [
    {
     "ename": "NameError",
     "evalue": "name 'calculate_MW' is not defined",
     "output_type": "error",
     "traceback": [
      "\u001b[1;31m---------------------------------------------------------------------------\u001b[0m",
      "\u001b[1;31mNameError\u001b[0m                                 Traceback (most recent call last)",
      "\u001b[1;32mC:\\Users\\NEL020~1\\AppData\\Local\\Temp/ipykernel_33720/4061759537.py\u001b[0m in \u001b[0;36m<module>\u001b[1;34m\u001b[0m\n\u001b[0;32m      1\u001b[0m \u001b[1;32mfor\u001b[0m \u001b[0mkey\u001b[0m\u001b[1;33m,\u001b[0m \u001b[0mvalue\u001b[0m \u001b[1;32min\u001b[0m \u001b[0mcytb_seqs\u001b[0m\u001b[1;33m.\u001b[0m\u001b[0mitems\u001b[0m\u001b[1;33m(\u001b[0m\u001b[1;33m)\u001b[0m\u001b[1;33m:\u001b[0m\u001b[1;33m\u001b[0m\u001b[1;33m\u001b[0m\u001b[0m\n\u001b[0;32m      2\u001b[0m     \u001b[0maa_seq\u001b[0m \u001b[1;33m=\u001b[0m \u001b[0mtranslate_function\u001b[0m\u001b[1;33m(\u001b[0m\u001b[0mvalue\u001b[0m\u001b[1;33m)\u001b[0m \u001b[1;31m# does the translation\u001b[0m\u001b[1;33m\u001b[0m\u001b[1;33m\u001b[0m\u001b[0m\n\u001b[1;32m----> 3\u001b[1;33m     \u001b[0mmolecular_weight\u001b[0m \u001b[1;33m=\u001b[0m \u001b[0mcalculate_MW\u001b[0m\u001b[1;33m(\u001b[0m\u001b[0maa_seq\u001b[0m\u001b[1;33m)\u001b[0m \u001b[1;31m#calculates the MW\u001b[0m\u001b[1;33m\u001b[0m\u001b[1;33m\u001b[0m\u001b[0m\n\u001b[0m\u001b[0;32m      4\u001b[0m     \u001b[0mGC_percentage\u001b[0m \u001b[1;33m=\u001b[0m \u001b[0mGC_content\u001b[0m\u001b[1;33m(\u001b[0m\u001b[0mvalue\u001b[0m\u001b[1;33m)\u001b[0m\u001b[1;33m*\u001b[0m\u001b[1;36m100\u001b[0m \u001b[1;31m# Turns into a percentage\u001b[0m\u001b[1;33m\u001b[0m\u001b[1;33m\u001b[0m\u001b[0m\n\u001b[0;32m      5\u001b[0m \u001b[1;33m\u001b[0m\u001b[0m\n",
      "\u001b[1;31mNameError\u001b[0m: name 'calculate_MW' is not defined"
     ]
    }
   ],
   "source": [
    "for key, value in cytb_seqs.items(): \n",
    "    aa_seq = translate_function(value) # does the translation\n",
    "    molecular_weight = calculate_MW(aa_seq) #calculates the MW\n",
    "    GC_percentage = GC_content(value)*100 # Turns into a percentage\n",
    "    \n",
    "    for index, row in penguins_mass_extended.iterrows():\n",
    "        if row['species'] == key: #points to the species to add MW and GC\n",
    "            penguins_mass_extended.loc[index, 'molecular_weight'] = molecular_weight \n",
    "            penguins_mass_extended.loc[index, 'GC_content'] = GC_percentage"
   ]
  },
  {
   "cell_type": "code",
   "execution_count": 18,
   "metadata": {},
   "outputs": [
    {
     "data": {
      "text/html": [
       "<div>\n",
       "<style scoped>\n",
       "    .dataframe tbody tr th:only-of-type {\n",
       "        vertical-align: middle;\n",
       "    }\n",
       "\n",
       "    .dataframe tbody tr th {\n",
       "        vertical-align: top;\n",
       "    }\n",
       "\n",
       "    .dataframe thead th {\n",
       "        text-align: right;\n",
       "    }\n",
       "</style>\n",
       "<table border=\"1\" class=\"dataframe\">\n",
       "  <thead>\n",
       "    <tr style=\"text-align: right;\">\n",
       "      <th></th>\n",
       "      <th>species</th>\n",
       "      <th>mass</th>\n",
       "      <th>molecular_weight</th>\n",
       "      <th>GC_content</th>\n",
       "    </tr>\n",
       "  </thead>\n",
       "  <tbody>\n",
       "    <tr>\n",
       "      <th>0</th>\n",
       "      <td>Aptenodytes forsteri</td>\n",
       "      <td>28.00</td>\n",
       "      <td>NaN</td>\n",
       "      <td>NaN</td>\n",
       "    </tr>\n",
       "    <tr>\n",
       "      <th>1</th>\n",
       "      <td>Aptenodytes patagonicus</td>\n",
       "      <td>13.40</td>\n",
       "      <td>NaN</td>\n",
       "      <td>NaN</td>\n",
       "    </tr>\n",
       "    <tr>\n",
       "      <th>2</th>\n",
       "      <td>Eudyptes chrysocome</td>\n",
       "      <td>2.80</td>\n",
       "      <td>NaN</td>\n",
       "      <td>NaN</td>\n",
       "    </tr>\n",
       "    <tr>\n",
       "      <th>3</th>\n",
       "      <td>Eudyptes chrysolophus</td>\n",
       "      <td>4.50</td>\n",
       "      <td>NaN</td>\n",
       "      <td>NaN</td>\n",
       "    </tr>\n",
       "    <tr>\n",
       "      <th>4</th>\n",
       "      <td>Eudyptes sclateri</td>\n",
       "      <td>4.25</td>\n",
       "      <td>NaN</td>\n",
       "      <td>NaN</td>\n",
       "    </tr>\n",
       "    <tr>\n",
       "      <th>5</th>\n",
       "      <td>Eudyptula minor</td>\n",
       "      <td>1.60</td>\n",
       "      <td>NaN</td>\n",
       "      <td>NaN</td>\n",
       "    </tr>\n",
       "    <tr>\n",
       "      <th>6</th>\n",
       "      <td>Pygoscelis adeliae</td>\n",
       "      <td>4.60</td>\n",
       "      <td>NaN</td>\n",
       "      <td>NaN</td>\n",
       "    </tr>\n",
       "    <tr>\n",
       "      <th>7</th>\n",
       "      <td>Pygoscelis antarctica</td>\n",
       "      <td>4.10</td>\n",
       "      <td>NaN</td>\n",
       "      <td>NaN</td>\n",
       "    </tr>\n",
       "    <tr>\n",
       "      <th>8</th>\n",
       "      <td>Pygoscelis papua</td>\n",
       "      <td>6.10</td>\n",
       "      <td>NaN</td>\n",
       "      <td>NaN</td>\n",
       "    </tr>\n",
       "    <tr>\n",
       "      <th>9</th>\n",
       "      <td>Spheniscus demersus</td>\n",
       "      <td>3.20</td>\n",
       "      <td>NaN</td>\n",
       "      <td>NaN</td>\n",
       "    </tr>\n",
       "    <tr>\n",
       "      <th>10</th>\n",
       "      <td>Spheniscus humboldti</td>\n",
       "      <td>4.75</td>\n",
       "      <td>NaN</td>\n",
       "      <td>NaN</td>\n",
       "    </tr>\n",
       "    <tr>\n",
       "      <th>11</th>\n",
       "      <td>Spheniscus magellanicus</td>\n",
       "      <td>3.40</td>\n",
       "      <td>NaN</td>\n",
       "      <td>NaN</td>\n",
       "    </tr>\n",
       "  </tbody>\n",
       "</table>\n",
       "</div>"
      ],
      "text/plain": [
       "                    species   mass molecular_weight GC_content\n",
       "0      Aptenodytes forsteri  28.00              NaN        NaN\n",
       "1   Aptenodytes patagonicus  13.40              NaN        NaN\n",
       "2       Eudyptes chrysocome   2.80              NaN        NaN\n",
       "3     Eudyptes chrysolophus   4.50              NaN        NaN\n",
       "4         Eudyptes sclateri   4.25              NaN        NaN\n",
       "5           Eudyptula minor   1.60              NaN        NaN\n",
       "6        Pygoscelis adeliae   4.60              NaN        NaN\n",
       "7     Pygoscelis antarctica   4.10              NaN        NaN\n",
       "8          Pygoscelis papua   6.10              NaN        NaN\n",
       "9       Spheniscus demersus   3.20              NaN        NaN\n",
       "10     Spheniscus humboldti   4.75              NaN        NaN\n",
       "11  Spheniscus magellanicus   3.40              NaN        NaN"
      ]
     },
     "execution_count": 18,
     "metadata": {},
     "output_type": "execute_result"
    }
   ],
   "source": [
    "penguins_mass_extended"
   ]
  },
  {
   "cell_type": "markdown",
   "metadata": {},
   "source": [
    "### Visualization"
   ]
  },
  {
   "cell_type": "markdown",
   "metadata": {},
   "source": [
    "First a plot for the mass of each species (#8)."
   ]
  },
  {
   "cell_type": "code",
   "execution_count": 14,
   "metadata": {},
   "outputs": [
    {
     "data": {
      "text/plain": [
       "<AxesSubplot:title={'center':'mass of species'}, xlabel='species'>"
      ]
     },
     "execution_count": 14,
     "metadata": {},
     "output_type": "execute_result"
    },
    {
     "data": {
      "image/png": "[encoded data removed]",
      "text/plain": [
       "<Figure size 432x288 with 1 Axes>"
      ]
     },
     "metadata": {
      "needs_background": "light"
     },
     "output_type": "display_data"
    }
   ],
   "source": [
    "import matplotlib.pyplot as plt\n",
    "import seaborn as sns\n",
    "%matplotlib inline\n",
    "penguins_mass_extended.plot(kind = 'bar', x = 'species', y = 'mass', title = 'mass of species')"
   ]
  },
  {
   "cell_type": "markdown",
   "metadata": {},
   "source": [
    "question number 8 = Eudyptula minor, whos geographic range is Australia and New Zealand"
   ]
  },
  {
   "cell_type": "markdown",
   "metadata": {},
   "source": [
    "Below is a script to analyze the relationship between GC content and molecular weight. "
   ]
  },
  {
   "cell_type": "code",
   "execution_count": 15,
   "metadata": {},
   "outputs": [
    {
     "ename": "NameError",
     "evalue": "name 'GC_percentage' is not defined",
     "output_type": "error",
     "traceback": [
      "\u001b[1;31m---------------------------------------------------------------------------\u001b[0m",
      "\u001b[1;31mNameError\u001b[0m                                 Traceback (most recent call last)",
      "\u001b[1;32mC:\\Users\\NEL020~1\\AppData\\Local\\Temp/ipykernel_33720/1170353307.py\u001b[0m in \u001b[0;36m<module>\u001b[1;34m\u001b[0m\n\u001b[1;32m----> 1\u001b[1;33m \u001b[0mx_data\u001b[0m \u001b[1;33m=\u001b[0m \u001b[0mGC_percentage\u001b[0m\u001b[1;33m\u001b[0m\u001b[1;33m\u001b[0m\u001b[0m\n\u001b[0m\u001b[0;32m      2\u001b[0m \u001b[0my_data\u001b[0m \u001b[1;33m=\u001b[0m \u001b[0mmolecular_weight\u001b[0m\u001b[1;33m\u001b[0m\u001b[1;33m\u001b[0m\u001b[0m\n\u001b[0;32m      3\u001b[0m \u001b[1;33m\u001b[0m\u001b[0m\n\u001b[0;32m      4\u001b[0m \u001b[0mpenguins_mass_extended\u001b[0m\u001b[1;33m.\u001b[0m\u001b[0mplot\u001b[0m\u001b[1;33m(\u001b[0m\u001b[0mkind\u001b[0m\u001b[1;33m=\u001b[0m\u001b[1;34m'scatter'\u001b[0m\u001b[1;33m,\u001b[0m\u001b[0mx\u001b[0m\u001b[1;33m=\u001b[0m\u001b[1;34m\"GC_content\"\u001b[0m\u001b[1;33m,\u001b[0m\u001b[0my\u001b[0m\u001b[1;33m=\u001b[0m\u001b[1;34m\"molecular_weight\"\u001b[0m\u001b[1;33m,\u001b[0m \u001b[0mtitle\u001b[0m\u001b[1;33m=\u001b[0m\u001b[1;34m'molecular weight (y-axis) as a function of GC-content (x-axis)'\u001b[0m\u001b[1;33m)\u001b[0m\u001b[1;33m\u001b[0m\u001b[1;33m\u001b[0m\u001b[0m\n",
      "\u001b[1;31mNameError\u001b[0m: name 'GC_percentage' is not defined"
     ]
    }
   ],
   "source": [
    "x_data = GC_percentage\n",
    "y_data = molecular_weight\n",
    "\n",
    "penguins_mass_extended.plot(kind='scatter',x=\"GC_content\",y=\"molecular_weight\", title='molecular weight (y-axis) as a function of GC-content (x-axis)')"
   ]
  },
  {
   "cell_type": "markdown",
   "metadata": {},
   "source": [
    "Save the new table to a new csv file."
   ]
  },
  {
   "cell_type": "code",
   "execution_count": null,
   "metadata": {},
   "outputs": [],
   "source": [
    "penguins_mass_extended.to_csv(\"penguins_mass_cytb.csv\", index=False)"
   ]
  }
 ],
 "metadata": {
  "interpreter": {
   "hash": "b3bf398fbd98f79c67509c0fd739935b4ac4818bbe27c6328d5e0537cdf380d7"
  },
  "kernelspec": {
   "display_name": "Python 3.9.7 ('base')",
   "language": "python",
   "name": "python3"
  },
  "language_info": {
   "codemirror_mode": {
    "name": "ipython",
    "version": 3
   },
   "file_extension": ".py",
   "mimetype": "text/x-python",
   "name": "python",
   "nbconvert_exporter": "python",
   "pygments_lexer": "ipython3",
   "version": "3.9.7"
  },
  "orig_nbformat": 4
 },
 "nbformat": 4,
 "nbformat_minor": 2
}
